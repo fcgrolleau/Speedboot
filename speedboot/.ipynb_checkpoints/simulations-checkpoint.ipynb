{
 "cells": [
  {
   "cell_type": "markdown",
   "id": "4b206de1-8f1c-4bea-8b07-2a685ff149f3",
   "metadata": {},
   "source": [
    "## Simulations for coverage, width and shape assement of the three condidence intervals"
   ]
  },
  {
   "cell_type": "code",
   "execution_count": 1,
   "id": "c47a4a82-1eb7-4e27-92ce-99ccab73a13a",
   "metadata": {},
   "outputs": [],
   "source": [
    "import numpy as np\n",
    "import pandas as pd\n",
    "from joblib import Parallel, delayed\n",
    "import multiprocessing\n",
    "from tqdm import tqdm\n",
    "from speedboot import speedboot"
   ]
  },
  {
   "cell_type": "code",
   "execution_count": 2,
   "id": "4e3dd995-a025-412b-90ca-c8cd2d6fe7c1",
   "metadata": {},
   "outputs": [],
   "source": [
    "n_superpop = 200000\n",
    "superpop = pd.DataFrame({\"height\": np.random.normal(1.7,.2,n_superpop),\n",
    "                         \"weight\": np.random.normal(65,10,n_superpop)})"
   ]
  },
  {
   "cell_type": "code",
   "execution_count": 3,
   "id": "dbb02cf6-6d4b-4142-9621-cf4f6b06e6e7",
   "metadata": {},
   "outputs": [
    {
     "name": "stdout",
     "output_type": "stream",
     "text": [
      "True BMI in the population is 23.54\n"
     ]
    }
   ],
   "source": [
    "def bmi(X):\n",
    "    '''Estimators for the mean age and mean BMI of a population'''\n",
    "    return np.array(np.mean(X['weight']/X['height']**2)).reshape(1,1)\n",
    "\n",
    "true_bmi = bmi(superpop)\n",
    "print(f'True BMI in the population is {float(true_bmi):.2f}')"
   ]
  },
  {
   "cell_type": "code",
   "execution_count": 4,
   "id": "ff72d404-36c8-46f9-b440-6f940b0bc954",
   "metadata": {},
   "outputs": [],
   "source": [
    "def rand_sampling(superpop, n, i):\n",
    "    return superpop.iloc[n*i:(n*i+n)]\n",
    "\n",
    "s_size = 200\n",
    "n_samples = int(n_superpop / s_size )\n",
    "\n",
    "samples = [rand_sampling(superpop, s_size, i) for i in range(n_samples)]"
   ]
  },
  {
   "cell_type": "code",
   "execution_count": 5,
   "id": "1b0d1a39-e320-4b53-9c6c-3c60dbebcd6b",
   "metadata": {},
   "outputs": [],
   "source": [
    "def ci_catch_by_sample(sample, stat=bmi):\n",
    "    speedboot_object = speedboot(data=sample, stats_fun=stat)\n",
    "    speedboot_object.fit(R=999, bar=False, par=True, seed=123)\n",
    "    speedboot_object.jackknife(bar=False, par=True)\n",
    "    est = speedboot_object.ests \n",
    "    \n",
    "    bca_ci = speedboot_object.bca_ci(alpha=.05)\n",
    "    emp_ci = speedboot_object.emp_ci(alpha=.05)\n",
    "    per_ci = speedboot_object.per_ci(alpha=.05)\n",
    "    \n",
    "    bca_covered = np.squeeze(bca_ci[0][0] <= true_bmi <= bca_ci[0][1])\n",
    "    emp_covered = np.squeeze(emp_ci[0][0] <= true_bmi <= emp_ci[0][1])\n",
    "    per_covered = np.squeeze(per_ci[0][0] <= true_bmi <= per_ci[0][1])\n",
    "    \n",
    "    bca_length = np.squeeze(np.diff(bca_ci))\n",
    "    emp_length = np.squeeze(np.diff(emp_ci))\n",
    "    per_length = np.squeeze(np.diff(per_ci))\n",
    "    \n",
    "    bca_shape = np.squeeze((bca_ci[0][1] - est) / (est - bca_ci[0][0]))\n",
    "    emp_shape = np.squeeze((emp_ci[0][1] - est) / (est - emp_ci[0][0]))\n",
    "    per_shape = np.squeeze((per_ci[0][1] - est) / (est - per_ci[0][0]))\n",
    "    \n",
    "    res =  np.array([np.array([bca_covered, emp_covered, per_covered]),\n",
    "                     np.array([bca_length, emp_length, per_length]),\n",
    "                     np.array([bca_shape, emp_shape, per_shape])])\n",
    "                            \n",
    "    return res"
   ]
  },
  {
   "cell_type": "code",
   "execution_count": 6,
   "id": "cca06b49-9320-48b5-9f41-272fc67424b9",
   "metadata": {},
   "outputs": [
    {
     "name": "stderr",
     "output_type": "stream",
     "text": [
      "100%|██████████| 10/10 [00:00<00:00, 56.81it/s]\n"
     ]
    }
   ],
   "source": [
    "num_cores = multiprocessing.cpu_count()\n",
    "res = Parallel(n_jobs=num_cores)(delayed(ci_catch_by_sample)(sample) for sample in tqdm(samples)) "
   ]
  },
  {
   "cell_type": "code",
   "execution_count": 7,
   "id": "f4218f1d-61b8-43b6-b898-bff87dc1c50d",
   "metadata": {},
   "outputs": [
    {
     "name": "stdout",
     "output_type": "stream",
     "text": [
      "In this simulation of 10 samples each of size 200,\n",
      "- BCa confidence intervals had\n",
      "   coverage 100.0%, mean width 1.92, and mean shape 1.16.\n",
      "\n",
      "- Empirical confidence intervals had\n",
      "   coverage 100.0%, mean width 1.92, and mean shape 0.94.\n",
      "\n",
      "- Percentile confidence intervals had\n",
      "   coverage 100.0%, mean width 1.92, and mean shape 1.07.\n",
      "\n"
     ]
    }
   ],
   "source": [
    "avg_res = np.mean(res, axis=0)\n",
    "print(f'In this simulation of {n_samples} samples each of size {s_size},')\n",
    "print('- BCa confidence intervals had')\n",
    "print(f'   coverage {float(100*avg_res[0,0]):.1f}%, mean width {float(avg_res[1,0]):.2f}, and mean shape {float(avg_res[2,0]):.2f}.\\n')\n",
    "\n",
    "print('- Empirical confidence intervals had')\n",
    "print(f'   coverage {float(100*avg_res[0,1]):.1f}%, mean width {float(avg_res[1,1]):.2f}, and mean shape {float(avg_res[2,1]):.2f}.\\n')\n",
    "\n",
    "print('- Percentile confidence intervals had')\n",
    "print(f'   coverage {float(100*avg_res[0,2]):.1f}%, mean width {float(avg_res[1,2]):.2f}, and mean shape {float(avg_res[2,2]):.2f}.\\n')"
   ]
  }
 ],
 "metadata": {
  "kernelspec": {
   "display_name": "Python 3",
   "language": "python",
   "name": "python3"
  },
  "language_info": {
   "codemirror_mode": {
    "name": "ipython",
    "version": 3
   },
   "file_extension": ".py",
   "mimetype": "text/x-python",
   "name": "python",
   "nbconvert_exporter": "python",
   "pygments_lexer": "ipython3",
   "version": "3.8.8"
  }
 },
 "nbformat": 4,
 "nbformat_minor": 5
}
