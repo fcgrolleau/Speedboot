{
 "cells": [
  {
   "cell_type": "code",
   "execution_count": 1,
   "id": "d3b2bf9d-3802-42d6-92a7-f80bcb553055",
   "metadata": {},
   "outputs": [],
   "source": [
    "import numpy as np\n",
    "import pandas as pd\n",
    "from speedboot import speedboot"
   ]
  },
  {
   "cell_type": "markdown",
   "id": "43e96940-500c-4428-b470-8b83d8b18bfc",
   "metadata": {},
   "source": [
    "##### You are given a random sample of size n from a population"
   ]
  },
  {
   "cell_type": "code",
   "execution_count": 16,
   "id": "695a4724-ad62-4867-83a0-883c388149cb",
   "metadata": {},
   "outputs": [
    {
     "data": {
      "text/html": [
       "<div>\n",
       "<style scoped>\n",
       "    .dataframe tbody tr th:only-of-type {\n",
       "        vertical-align: middle;\n",
       "    }\n",
       "\n",
       "    .dataframe tbody tr th {\n",
       "        vertical-align: top;\n",
       "    }\n",
       "\n",
       "    .dataframe thead th {\n",
       "        text-align: right;\n",
       "    }\n",
       "</style>\n",
       "<table border=\"1\" class=\"dataframe\">\n",
       "  <thead>\n",
       "    <tr style=\"text-align: right;\">\n",
       "      <th></th>\n",
       "      <th>age</th>\n",
       "      <th>height</th>\n",
       "      <th>weight</th>\n",
       "    </tr>\n",
       "  </thead>\n",
       "  <tbody>\n",
       "    <tr>\n",
       "      <th>0</th>\n",
       "      <td>42.767632</td>\n",
       "      <td>1.864750</td>\n",
       "      <td>68.173655</td>\n",
       "    </tr>\n",
       "    <tr>\n",
       "      <th>1</th>\n",
       "      <td>50.192662</td>\n",
       "      <td>1.654604</td>\n",
       "      <td>70.543213</td>\n",
       "    </tr>\n",
       "    <tr>\n",
       "      <th>2</th>\n",
       "      <td>61.416001</td>\n",
       "      <td>1.618800</td>\n",
       "      <td>54.041024</td>\n",
       "    </tr>\n",
       "    <tr>\n",
       "      <th>3</th>\n",
       "      <td>65.657727</td>\n",
       "      <td>1.798257</td>\n",
       "      <td>70.983286</td>\n",
       "    </tr>\n",
       "    <tr>\n",
       "      <th>4</th>\n",
       "      <td>42.188275</td>\n",
       "      <td>1.571528</td>\n",
       "      <td>55.354185</td>\n",
       "    </tr>\n",
       "  </tbody>\n",
       "</table>\n",
       "</div>"
      ],
      "text/plain": [
       "         age    height     weight\n",
       "0  42.767632  1.864750  68.173655\n",
       "1  50.192662  1.654604  70.543213\n",
       "2  61.416001  1.618800  54.041024\n",
       "3  65.657727  1.798257  70.983286\n",
       "4  42.188275  1.571528  55.354185"
      ]
     },
     "execution_count": 16,
     "metadata": {},
     "output_type": "execute_result"
    }
   ],
   "source": [
    "n = 1000\n",
    "n_sample = pd.DataFrame({\"age\": np.random.normal(50,10,n),\n",
    "                         \"height\": np.random.normal(1.7,.2,n),\n",
    "                         \"weight\": np.random.normal(65,10,n)})\n",
    "n_sample.head()"
   ]
  },
  {
   "cell_type": "markdown",
   "id": "714f0ab4-fd45-4400-8ff6-a500e5a99ea1",
   "metadata": {},
   "source": [
    "##### Using this sample you wish to estimate the mean age and mean BMI for the population form which we are sampling"
   ]
  },
  {
   "cell_type": "code",
   "execution_count": 3,
   "id": "d58e32b9-33ae-4b9b-99fb-19ec3779bb62",
   "metadata": {},
   "outputs": [
    {
     "name": "stdout",
     "output_type": "stream",
     "text": [
      "estimated mean age is 50.54\n",
      "estimated mean BMI is 23.41\n"
     ]
    }
   ],
   "source": [
    "def estimators(X):\n",
    "    '''Estimators for the mean age and mean BMI of a population'''\n",
    "    return np.array([np.mean(X['age']), np.mean(X['weight']/X['height']**2)])\n",
    "\n",
    "(age_hat, bmi_hat) = estimators(n_sample)\n",
    "\n",
    "print(f'estimated mean age is {age_hat:.2f}')\n",
    "print(f'estimated mean BMI is {bmi_hat:.2f}')"
   ]
  },
  {
   "cell_type": "markdown",
   "id": "116bda6d-e0b4-4ab8-a70d-5a884f9e7626",
   "metadata": {},
   "source": [
    "##### Instanciate speedboot with the sample and the estimator function"
   ]
  },
  {
   "cell_type": "code",
   "execution_count": 4,
   "id": "99a045dc-aba5-4c3f-a8ee-467cf6327667",
   "metadata": {},
   "outputs": [],
   "source": [
    "speedboot_object = speedboot(data=n_sample, stats_fun=estimators)"
   ]
  },
  {
   "cell_type": "markdown",
   "id": "a47486c0-13f4-48e2-8c5b-4dbd7c53b507",
   "metadata": {},
   "source": [
    "##### Run the bootstrap with 999 iterations"
   ]
  },
  {
   "cell_type": "code",
   "execution_count": 5,
   "id": "c25a6372-ca17-45be-b983-2b84492e11ee",
   "metadata": {},
   "outputs": [
    {
     "name": "stderr",
     "output_type": "stream",
     "text": [
      "100%|██████████| 999/999 [00:00<00:00, 1390.27it/s]\n"
     ]
    }
   ],
   "source": [
    "speedboot_object.fit(R=999, bar=True, seed=123)"
   ]
  },
  {
   "cell_type": "markdown",
   "id": "4b178388-54dc-41bf-9fdc-15f1fff2ffa9",
   "metadata": {},
   "source": [
    "##### Parallelize computations for speed"
   ]
  },
  {
   "cell_type": "code",
   "execution_count": 6,
   "id": "cad8f616-e6ea-4592-b0ae-29dc0391a3f4",
   "metadata": {},
   "outputs": [
    {
     "name": "stderr",
     "output_type": "stream",
     "text": [
      "100%|██████████| 999/999 [00:01<00:00, 658.02it/s] \n"
     ]
    }
   ],
   "source": [
    "speedboot_object.fit(R=999, bar=True, par=True, seed=123)"
   ]
  },
  {
   "cell_type": "markdown",
   "id": "71d39d58-495b-48c2-a480-1928a7d18b0c",
   "metadata": {},
   "source": [
    "##### Recover point estimates"
   ]
  },
  {
   "cell_type": "code",
   "execution_count": 7,
   "id": "cfa664fc-e631-4731-a03a-6b7a611f5622",
   "metadata": {},
   "outputs": [
    {
     "data": {
      "text/plain": [
       "array([50.53602994, 23.40755434])"
      ]
     },
     "execution_count": 7,
     "metadata": {},
     "output_type": "execute_result"
    }
   ],
   "source": [
    "speedboot_object.ests"
   ]
  },
  {
   "cell_type": "markdown",
   "id": "1fbbeff8-c6c2-4f28-9d08-52b59fe84edd",
   "metadata": {},
   "source": [
    "##### Recover bootstrap estimates"
   ]
  },
  {
   "cell_type": "code",
   "execution_count": 8,
   "id": "c2fa8149-a932-46d9-9c63-8d946addb92b",
   "metadata": {},
   "outputs": [
    {
     "data": {
      "text/html": [
       "<div>\n",
       "<style scoped>\n",
       "    .dataframe tbody tr th:only-of-type {\n",
       "        vertical-align: middle;\n",
       "    }\n",
       "\n",
       "    .dataframe tbody tr th {\n",
       "        vertical-align: top;\n",
       "    }\n",
       "\n",
       "    .dataframe thead th {\n",
       "        text-align: right;\n",
       "    }\n",
       "</style>\n",
       "<table border=\"1\" class=\"dataframe\">\n",
       "  <thead>\n",
       "    <tr style=\"text-align: right;\">\n",
       "      <th></th>\n",
       "      <th>age_hats</th>\n",
       "      <th>BMI_hats</th>\n",
       "    </tr>\n",
       "  </thead>\n",
       "  <tbody>\n",
       "    <tr>\n",
       "      <th>0</th>\n",
       "      <td>50.444852</td>\n",
       "      <td>23.199330</td>\n",
       "    </tr>\n",
       "    <tr>\n",
       "      <th>1</th>\n",
       "      <td>50.492972</td>\n",
       "      <td>23.594768</td>\n",
       "    </tr>\n",
       "    <tr>\n",
       "      <th>2</th>\n",
       "      <td>50.702855</td>\n",
       "      <td>23.052693</td>\n",
       "    </tr>\n",
       "    <tr>\n",
       "      <th>3</th>\n",
       "      <td>50.754594</td>\n",
       "      <td>23.427204</td>\n",
       "    </tr>\n",
       "    <tr>\n",
       "      <th>4</th>\n",
       "      <td>50.703277</td>\n",
       "      <td>23.347436</td>\n",
       "    </tr>\n",
       "    <tr>\n",
       "      <th>...</th>\n",
       "      <td>...</td>\n",
       "      <td>...</td>\n",
       "    </tr>\n",
       "    <tr>\n",
       "      <th>994</th>\n",
       "      <td>51.287956</td>\n",
       "      <td>23.394546</td>\n",
       "    </tr>\n",
       "    <tr>\n",
       "      <th>995</th>\n",
       "      <td>50.669531</td>\n",
       "      <td>23.389515</td>\n",
       "    </tr>\n",
       "    <tr>\n",
       "      <th>996</th>\n",
       "      <td>50.884023</td>\n",
       "      <td>23.451116</td>\n",
       "    </tr>\n",
       "    <tr>\n",
       "      <th>997</th>\n",
       "      <td>50.124097</td>\n",
       "      <td>23.594405</td>\n",
       "    </tr>\n",
       "    <tr>\n",
       "      <th>998</th>\n",
       "      <td>50.546160</td>\n",
       "      <td>23.718873</td>\n",
       "    </tr>\n",
       "  </tbody>\n",
       "</table>\n",
       "<p>999 rows × 2 columns</p>\n",
       "</div>"
      ],
      "text/plain": [
       "      age_hats   BMI_hats\n",
       "0    50.444852  23.199330\n",
       "1    50.492972  23.594768\n",
       "2    50.702855  23.052693\n",
       "3    50.754594  23.427204\n",
       "4    50.703277  23.347436\n",
       "..         ...        ...\n",
       "994  51.287956  23.394546\n",
       "995  50.669531  23.389515\n",
       "996  50.884023  23.451116\n",
       "997  50.124097  23.594405\n",
       "998  50.546160  23.718873\n",
       "\n",
       "[999 rows x 2 columns]"
      ]
     },
     "execution_count": 8,
     "metadata": {},
     "output_type": "execute_result"
    }
   ],
   "source": [
    "pd.DataFrame(speedboot_object.ests_boot, columns=['age_hats', 'BMI_hats'])"
   ]
  },
  {
   "cell_type": "markdown",
   "id": "8227b4cf-4030-44ce-8b2d-d9ecb2335e1a",
   "metadata": {},
   "source": [
    "##### Plot histograms for normality check"
   ]
  },
  {
   "cell_type": "code",
   "execution_count": 14,
   "id": "d7225cd3-237c-4d1e-a853-a6c10dc6d20f",
   "metadata": {},
   "outputs": [
    {
     "data": {
      "image/png": "[encoded data removed]",
      "text/plain": [
       "<Figure size 432x864 with 2 Axes>"
      ]
     },
     "metadata": {
      "needs_background": "light"
     },
     "output_type": "display_data"
    }
   ],
   "source": [
    "speedboot_object.plot(prec=.04, size=6)"
   ]
  },
  {
   "cell_type": "markdown",
   "id": "aa741bb0-3815-4fc3-95f6-37b7307d4fc8",
   "metadata": {},
   "source": [
    "##### Compute 90% percentile confidence intervals"
   ]
  },
  {
   "cell_type": "code",
   "execution_count": 15,
   "id": "28d20c7a-9a7a-4030-9a1b-59b560958673",
   "metadata": {},
   "outputs": [
    {
     "data": {
      "text/plain": [
       "array([[50.1203215 , 50.94605814],\n",
       "       [23.16172784, 23.65095652]])"
      ]
     },
     "execution_count": 15,
     "metadata": {},
     "output_type": "execute_result"
    }
   ],
   "source": [
    "speedboot_object.per_ci(alpha=.1)"
   ]
  },
  {
   "cell_type": "markdown",
   "id": "6fb5621b-b8cd-46cf-a488-d49b819fd776",
   "metadata": {},
   "source": [
    "##### Compute 90% empirical confidence intervals"
   ]
  },
  {
   "cell_type": "code",
   "execution_count": 11,
   "id": "980e7b6c-fc76-4a5c-bef1-cbcbefe0623c",
   "metadata": {},
   "outputs": [
    {
     "data": {
      "text/plain": [
       "array([[50.12600174, 50.95173838],\n",
       "       [23.16415216, 23.65338084]])"
      ]
     },
     "execution_count": 11,
     "metadata": {},
     "output_type": "execute_result"
    }
   ],
   "source": [
    "speedboot_object.emp_ci(alpha=.1)"
   ]
  }
 ],
 "metadata": {
  "kernelspec": {
   "display_name": "Python 3",
   "language": "python",
   "name": "python3"
  },
  "language_info": {
   "codemirror_mode": {
    "name": "ipython",
    "version": 3
   },
   "file_extension": ".py",
   "mimetype": "text/x-python",
   "name": "python",
   "nbconvert_exporter": "python",
   "pygments_lexer": "ipython3",
   "version": "3.8.8"
  }
 },
 "nbformat": 4,
 "nbformat_minor": 5
}
