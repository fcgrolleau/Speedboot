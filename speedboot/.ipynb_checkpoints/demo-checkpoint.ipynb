{
 "cells": [
  {
   "cell_type": "code",
   "execution_count": 99,
   "id": "0e29b0c5-130d-4b78-ac3b-936caba9eba5",
   "metadata": {},
   "outputs": [],
   "source": [
    "import numpy as np\n",
    "import pandas as pd\n",
    "import matplotlib.pyplot as plt\n",
    "import random\n",
    "from scipy.special import ndtr, ndtri\n",
    "from joblib import Parallel, delayed\n",
    "import multiprocessing\n",
    "from tqdm import tqdm\n",
    "\n",
    "class speedboot:\n",
    "    \"\"\"\n",
    "    Speed boostrap class.\n",
    "\n",
    "    Attributes:\n",
    "      data (numpy array or pandas dataframe): fitted model for treatment outcome.\n",
    "      stats_fun (function): function that takes data as input and outputs one or multiple statistics in a numpy array.\n",
    "    \"\"\"                               \n",
    "    \n",
    "    def __init__(self, data, stats_fun):\n",
    "        \"\"\"\n",
    "        Initializer for Fast boostrap class.\n",
    "        \"\"\"\n",
    "        self.data = pd.DataFrame(data).reset_index()\n",
    "        self.stats_fun = stats_fun\n",
    "\n",
    "    def fit(self, R=999, bar = True, par = False, seed=0):\n",
    "        \"\"\"Bootstrap multiple statistics at once given data.\n",
    "        \n",
    "        Attributes:\n",
    "            R (positive int): fitted model for treatment outcome.\n",
    "            bar (bool): print progress bar.\n",
    "            par (bool): parallelization on all cores.\n",
    "            seed (positive int): random seed for reproducibility.\n",
    "        \"\"\"\n",
    "        \n",
    "        self.R = R\n",
    "        random.seed(seed)\n",
    "        num_cores = multiprocessing.cpu_count()\n",
    "        resamples = [[random.randint(0,len(self.data)-1) for _ in range(len(self.data))] for _ in range(R)]\n",
    "        boot_dfs = [self.data.iloc[resamples[i]] for i in range(R)]\n",
    "        if bar and par:\n",
    "            boot_estimates = Parallel(n_jobs=num_cores)(delayed(self.stats_fun)(i) for i in tqdm(boot_dfs))\n",
    "        elif bar and not par:\n",
    "            boot_estimates = [self.stats_fun(boot_df) for boot_df in tqdm(boot_dfs)]\n",
    "        elif not bar and par:\n",
    "            boot_estimates = Parallel(n_jobs=num_cores)(delayed(self.stats_fun)(i) for i in boot_dfs)\n",
    "        elif not bar and not par:\n",
    "            boot_estimates = [self.stats_fun(boot_df) for boot_df in boot_dfs]  \n",
    "        self.ests_boot = np.vstack([ests_i.T for ests_i in boot_estimates])\n",
    "        self.ests = np.array(self.stats_fun(self.data))\n",
    "    \n",
    "    def emp_ci(self, alpha=.05):\n",
    "        \"\"\"from an array of estimates and a R x len(slef.ests) matrix of bootstrap estimates\n",
    "        outputs a len(slef.ests) x 2 matrix of empirical bootstrap CI.\n",
    "        \n",
    "        Attributes:\n",
    "            alpha (probability float): alpha risk that determines confidence interval width i.e., alpha=.05 for 95% confidence intervals.\n",
    "        \"\"\"\n",
    "        quantiles = np.array([np.nanquantile(self.ests_boot[:,est_id],[1-alpha/2, alpha/2]) for est_id, _ in enumerate(self.ests)])\n",
    "        if len(self.ests) == 1:\n",
    "            return 2*self.ests-quantiles\n",
    "        else:\n",
    "            return np.multiply(2,self.ests).reshape(len(self.ests),1)-quantiles\n",
    "\n",
    "    def per_ci(self, alpha=.05):\n",
    "        \"\"\"from an array of estimates and a R x len(slef.ests) matrix of bootstrap estimates\n",
    "        outputs a len(slef.ests) x 2 matrix of empirical bootstrap CI.\n",
    "                \n",
    "        Attributes:\n",
    "            alpha (probability float): alpha risk that determines confidence interval width i.e., alpha=.05 for 95% confidence intervals.\n",
    "        \"\"\"\n",
    "        return np.array([np.nanquantile(self.ests_boot[:,est_id],[alpha/2, 1-alpha/2]) for est_id, _ in enumerate(self.ests)])\n",
    "    \n",
    "    def plot(self, prec=.05, size=4):\n",
    "        \"\"\"plots histograms of the bootstrap estimates\n",
    "        \n",
    "        Attributes:\n",
    "            prec (probability float): determines the binwidth of the histograms. If prec=1 plots as many bins as boostrap estimates.\n",
    "            size (positive float): size of each plot.\n",
    "        \"\"\"\n",
    "        plt.figure(figsize=(size, size*len(self.ests)))\n",
    "        n_bins = int(prec * len(self.ests_boot))\n",
    "        for n in range(len(self.ests)): # adds a new subplot iteratively\n",
    "            ax = plt.subplot(len(self.ests), 1, n + 1)\n",
    "            ax.hist(self.ests_boot[:,n], bins=np.linspace(min(self.ests_boot[:,n]), max(self.ests_boot[:,n]), num=n_bins))\n",
    "            plt.xlim(min(self.ests_boot[:,n]), max(self.ests_boot[:,n]))\n",
    "            ax.set_title(\"Estimate \" + str(n+1))\n",
    "            \n",
    "    def jackknife(self, bar = True, par = False):\n",
    "        num_cores = multiprocessing.cpu_count()\n",
    "\n",
    "        jack_dfs = [self.data.drop(i) for i in range(len(self.data))]\n",
    "        if bar and par:\n",
    "            jack_estimates = Parallel(n_jobs=num_cores)(delayed(self.stats_fun)(i) for i in tqdm(jack_dfs)) \n",
    "        elif bar and not par:\n",
    "            jack_estimates = [self.stats_fun(jack_df) for jack_df in tqdm(jack_dfs)]  \n",
    "        elif not bar and par:\n",
    "            jack_estimates = Parallel(n_jobs=num_cores)(delayed(self.stats_fun)(i) for i in jack_dfs)  \n",
    "        elif not bar and not par:\n",
    "            jack_estimates = [self.stats_fun(jack_dfs) for jack_df in jack_dfs]  \n",
    "\n",
    "        self.ests_jack = np.vstack([ests_i.T for ests_i in jack_estimates]) \n",
    "        \n",
    "    def bca_ci(self, alpha=.05):\n",
    "        try:\n",
    "            self.ests_jack is float\n",
    "        except AttributeError:\n",
    "            print(\"To obtain BCa confidence intervals you need to first run the jackknife \")\n",
    "            print(\"i.e., use the .jackknife() method\")\n",
    "        \n",
    "        # calculate z0_hat\n",
    "        z0_hat = ndtri(np.sum(self.ests_boot < self.ests, axis=0)/self.R)\n",
    "        \n",
    "        # calculate a_hat\n",
    "        num =     np.sum((np.mean(self.ests_jack, axis=0) - self.ests_jack)**3, axis=0)\n",
    "        denom = 6*np.sum((np.mean(self.ests_jack, axis=0) - self.ests_jack)**2, axis=0)**(3/2)\n",
    "        a_hat = num/denom\n",
    "        \n",
    "        # calculate alpha_1, alpha_2\n",
    "        alpha = alpha / 2\n",
    "        z_alpha = ndtri(alpha)\n",
    "        z_1alpha = -z_alpha\n",
    "        num1 = z0_hat + z_alpha\n",
    "        alpha_1 = ndtr(z0_hat + num1/(1 - a_hat*num1))\n",
    "        num2 = z0_hat + z_1alpha\n",
    "        alpha_2 = ndtr(z0_hat + num2/(1 - a_hat*num2))\n",
    "        \n",
    "        bca = np.array([np.nanquantile(self.ests_boot[:,est_id],[alpha_1[est_id], alpha_2[est_id]]) for est_id in range(len(self.ests)) ])\n",
    "        \n",
    "        return bca"
   ]
  },
  {
   "cell_type": "code",
   "execution_count": 100,
   "id": "d3b2bf9d-3802-42d6-92a7-f80bcb553055",
   "metadata": {},
   "outputs": [],
   "source": [
    "import numpy as np\n",
    "import pandas as pd"
   ]
  },
  {
   "cell_type": "markdown",
   "id": "43e96940-500c-4428-b470-8b83d8b18bfc",
   "metadata": {},
   "source": [
    "##### You are given a random sample of size n from a population"
   ]
  },
  {
   "cell_type": "code",
   "execution_count": 101,
   "id": "695a4724-ad62-4867-83a0-883c388149cb",
   "metadata": {},
   "outputs": [
    {
     "data": {
      "text/html": [
       "<div>\n",
       "<style scoped>\n",
       "    .dataframe tbody tr th:only-of-type {\n",
       "        vertical-align: middle;\n",
       "    }\n",
       "\n",
       "    .dataframe tbody tr th {\n",
       "        vertical-align: top;\n",
       "    }\n",
       "\n",
       "    .dataframe thead th {\n",
       "        text-align: right;\n",
       "    }\n",
       "</style>\n",
       "<table border=\"1\" class=\"dataframe\">\n",
       "  <thead>\n",
       "    <tr style=\"text-align: right;\">\n",
       "      <th></th>\n",
       "      <th>age</th>\n",
       "      <th>height</th>\n",
       "      <th>weight</th>\n",
       "    </tr>\n",
       "  </thead>\n",
       "  <tbody>\n",
       "    <tr>\n",
       "      <th>0</th>\n",
       "      <td>55.832923</td>\n",
       "      <td>1.367870</td>\n",
       "      <td>74.447736</td>\n",
       "    </tr>\n",
       "    <tr>\n",
       "      <th>1</th>\n",
       "      <td>46.997095</td>\n",
       "      <td>1.351507</td>\n",
       "      <td>57.277880</td>\n",
       "    </tr>\n",
       "    <tr>\n",
       "      <th>2</th>\n",
       "      <td>59.672011</td>\n",
       "      <td>1.749863</td>\n",
       "      <td>52.611975</td>\n",
       "    </tr>\n",
       "    <tr>\n",
       "      <th>3</th>\n",
       "      <td>51.743766</td>\n",
       "      <td>1.512168</td>\n",
       "      <td>55.816641</td>\n",
       "    </tr>\n",
       "    <tr>\n",
       "      <th>4</th>\n",
       "      <td>49.612777</td>\n",
       "      <td>1.708705</td>\n",
       "      <td>82.677602</td>\n",
       "    </tr>\n",
       "  </tbody>\n",
       "</table>\n",
       "</div>"
      ],
      "text/plain": [
       "         age    height     weight\n",
       "0  55.832923  1.367870  74.447736\n",
       "1  46.997095  1.351507  57.277880\n",
       "2  59.672011  1.749863  52.611975\n",
       "3  51.743766  1.512168  55.816641\n",
       "4  49.612777  1.708705  82.677602"
      ]
     },
     "execution_count": 101,
     "metadata": {},
     "output_type": "execute_result"
    }
   ],
   "source": [
    "n = 200\n",
    "n_sample = pd.DataFrame({\"age\": np.random.normal(50,10,n),\n",
    "                         \"height\": np.random.normal(1.7,.2,n),\n",
    "                         \"weight\": np.random.normal(65,10,n)})\n",
    "n_sample.head()"
   ]
  },
  {
   "cell_type": "markdown",
   "id": "714f0ab4-fd45-4400-8ff6-a500e5a99ea1",
   "metadata": {},
   "source": [
    "##### Using this sample you wish to estimate the mean age and mean BMI for the population form which we are sampling"
   ]
  },
  {
   "cell_type": "code",
   "execution_count": 212,
   "id": "d58e32b9-33ae-4b9b-99fb-19ec3779bb62",
   "metadata": {},
   "outputs": [
    {
     "name": "stdout",
     "output_type": "stream",
     "text": [
      "estimated mean age is 50.98\n",
      "estimated mean BMI is 24.22\n"
     ]
    }
   ],
   "source": [
    "def estimators(X):\n",
    "    '''Estimators for the mean age and mean BMI of a population'''\n",
    "    return np.array([np.mean(X['age']), np.mean(X['weight']/X['height']**2)])\n",
    "\n",
    "(age_hat, bmi_hat) = estimators(n_sample)\n",
    "\n",
    "print(f'estimated mean age is {age_hat:.2f}')\n",
    "print(f'estimated mean BMI is {bmi_hat:.2f}')"
   ]
  },
  {
   "cell_type": "markdown",
   "id": "116bda6d-e0b4-4ab8-a70d-5a884f9e7626",
   "metadata": {},
   "source": [
    "##### Instanciate speedboot with the sample and the estimator function"
   ]
  },
  {
   "cell_type": "code",
   "execution_count": 213,
   "id": "99a045dc-aba5-4c3f-a8ee-467cf6327667",
   "metadata": {},
   "outputs": [],
   "source": [
    "speedboot_object = speedboot(data=n_sample, stats_fun=estimators)"
   ]
  },
  {
   "cell_type": "markdown",
   "id": "a47486c0-13f4-48e2-8c5b-4dbd7c53b507",
   "metadata": {},
   "source": [
    "##### Run the bootstrap with 999 iterations"
   ]
  },
  {
   "cell_type": "code",
   "execution_count": 214,
   "id": "c25a6372-ca17-45be-b983-2b84492e11ee",
   "metadata": {},
   "outputs": [],
   "source": [
    "#speedboot_object.fit(R=999, bar=True, seed=123)"
   ]
  },
  {
   "cell_type": "markdown",
   "id": "4b178388-54dc-41bf-9fdc-15f1fff2ffa9",
   "metadata": {},
   "source": [
    "##### Parallelize computations for speed"
   ]
  },
  {
   "cell_type": "code",
   "execution_count": 215,
   "id": "cad8f616-e6ea-4592-b0ae-29dc0391a3f4",
   "metadata": {},
   "outputs": [
    {
     "name": "stderr",
     "output_type": "stream",
     "text": [
      "100%|██████████| 999/999 [00:01<00:00, 904.18it/s]\n"
     ]
    }
   ],
   "source": [
    "speedboot_object.fit(R=999, bar=True, par=True, seed=123)"
   ]
  },
  {
   "cell_type": "markdown",
   "id": "71d39d58-495b-48c2-a480-1928a7d18b0c",
   "metadata": {},
   "source": [
    "##### Recover point estimates"
   ]
  },
  {
   "cell_type": "code",
   "execution_count": 216,
   "id": "cfa664fc-e631-4731-a03a-6b7a611f5622",
   "metadata": {},
   "outputs": [
    {
     "data": {
      "text/plain": [
       "array([50.97944467, 24.21593727])"
      ]
     },
     "execution_count": 216,
     "metadata": {},
     "output_type": "execute_result"
    }
   ],
   "source": [
    "speedboot_object.ests"
   ]
  },
  {
   "cell_type": "markdown",
   "id": "1fbbeff8-c6c2-4f28-9d08-52b59fe84edd",
   "metadata": {},
   "source": [
    "##### Recover bootstrap estimates stored in .ests_boot"
   ]
  },
  {
   "cell_type": "code",
   "execution_count": 218,
   "id": "c2fa8149-a932-46d9-9c63-8d946addb92b",
   "metadata": {},
   "outputs": [
    {
     "data": {
      "text/html": [
       "<div>\n",
       "<style scoped>\n",
       "    .dataframe tbody tr th:only-of-type {\n",
       "        vertical-align: middle;\n",
       "    }\n",
       "\n",
       "    .dataframe tbody tr th {\n",
       "        vertical-align: top;\n",
       "    }\n",
       "\n",
       "    .dataframe thead th {\n",
       "        text-align: right;\n",
       "    }\n",
       "</style>\n",
       "<table border=\"1\" class=\"dataframe\">\n",
       "  <thead>\n",
       "    <tr style=\"text-align: right;\">\n",
       "      <th></th>\n",
       "      <th>age_hats</th>\n",
       "      <th>BMI_hats</th>\n",
       "    </tr>\n",
       "  </thead>\n",
       "  <tbody>\n",
       "    <tr>\n",
       "      <th>0</th>\n",
       "      <td>50.632868</td>\n",
       "      <td>24.609705</td>\n",
       "    </tr>\n",
       "    <tr>\n",
       "      <th>1</th>\n",
       "      <td>51.310482</td>\n",
       "      <td>24.951818</td>\n",
       "    </tr>\n",
       "    <tr>\n",
       "      <th>2</th>\n",
       "      <td>51.011239</td>\n",
       "      <td>24.198367</td>\n",
       "    </tr>\n",
       "    <tr>\n",
       "      <th>3</th>\n",
       "      <td>50.330923</td>\n",
       "      <td>24.042043</td>\n",
       "    </tr>\n",
       "    <tr>\n",
       "      <th>4</th>\n",
       "      <td>50.394379</td>\n",
       "      <td>23.832986</td>\n",
       "    </tr>\n",
       "    <tr>\n",
       "      <th>...</th>\n",
       "      <td>...</td>\n",
       "      <td>...</td>\n",
       "    </tr>\n",
       "    <tr>\n",
       "      <th>994</th>\n",
       "      <td>50.322985</td>\n",
       "      <td>24.525243</td>\n",
       "    </tr>\n",
       "    <tr>\n",
       "      <th>995</th>\n",
       "      <td>50.231429</td>\n",
       "      <td>24.219271</td>\n",
       "    </tr>\n",
       "    <tr>\n",
       "      <th>996</th>\n",
       "      <td>51.057404</td>\n",
       "      <td>24.283183</td>\n",
       "    </tr>\n",
       "    <tr>\n",
       "      <th>997</th>\n",
       "      <td>51.823948</td>\n",
       "      <td>24.508806</td>\n",
       "    </tr>\n",
       "    <tr>\n",
       "      <th>998</th>\n",
       "      <td>51.274157</td>\n",
       "      <td>24.228031</td>\n",
       "    </tr>\n",
       "  </tbody>\n",
       "</table>\n",
       "<p>999 rows × 2 columns</p>\n",
       "</div>"
      ],
      "text/plain": [
       "      age_hats   BMI_hats\n",
       "0    50.632868  24.609705\n",
       "1    51.310482  24.951818\n",
       "2    51.011239  24.198367\n",
       "3    50.330923  24.042043\n",
       "4    50.394379  23.832986\n",
       "..         ...        ...\n",
       "994  50.322985  24.525243\n",
       "995  50.231429  24.219271\n",
       "996  51.057404  24.283183\n",
       "997  51.823948  24.508806\n",
       "998  51.274157  24.228031\n",
       "\n",
       "[999 rows x 2 columns]"
      ]
     },
     "execution_count": 218,
     "metadata": {},
     "output_type": "execute_result"
    }
   ],
   "source": [
    "pd.DataFrame(speedboot_object.ests_boot, columns=['age_hats', 'BMI_hats'])"
   ]
  },
  {
   "cell_type": "markdown",
   "id": "8227b4cf-4030-44ce-8b2d-d9ecb2335e1a",
   "metadata": {},
   "source": [
    "##### Plot histograms for normality check"
   ]
  },
  {
   "cell_type": "code",
   "execution_count": 219,
   "id": "d7225cd3-237c-4d1e-a853-a6c10dc6d20f",
   "metadata": {},
   "outputs": [
    {
     "data": {
      "image/png": "[encoded data removed]",
      "text/plain": [
       "<Figure size 432x864 with 2 Axes>"
      ]
     },
     "metadata": {
      "needs_background": "light"
     },
     "output_type": "display_data"
    }
   ],
   "source": [
    "speedboot_object.plot(prec=.04, size=6)"
   ]
  },
  {
   "cell_type": "markdown",
   "id": "aa741bb0-3815-4fc3-95f6-37b7307d4fc8",
   "metadata": {},
   "source": [
    "##### Compute 90% percentile confidence intervals"
   ]
  },
  {
   "cell_type": "code",
   "execution_count": 220,
   "id": "28d20c7a-9a7a-4030-9a1b-59b560958673",
   "metadata": {},
   "outputs": [
    {
     "data": {
      "text/plain": [
       "array([[49.64536546, 52.42057508],\n",
       "       [23.20785009, 25.21548232]])"
      ]
     },
     "execution_count": 220,
     "metadata": {},
     "output_type": "execute_result"
    }
   ],
   "source": [
    "speedboot_object.per_ci(alpha=.05)"
   ]
  },
  {
   "cell_type": "markdown",
   "id": "6fb5621b-b8cd-46cf-a488-d49b819fd776",
   "metadata": {},
   "source": [
    "##### Compute 90% empirical confidence intervals"
   ]
  },
  {
   "cell_type": "code",
   "execution_count": 221,
   "id": "980e7b6c-fc76-4a5c-bef1-cbcbefe0623c",
   "metadata": {},
   "outputs": [
    {
     "data": {
      "text/plain": [
       "array([[49.53831427, 52.31352388],\n",
       "       [23.21639222, 25.22402446]])"
      ]
     },
     "execution_count": 221,
     "metadata": {},
     "output_type": "execute_result"
    }
   ],
   "source": [
    "speedboot_object.emp_ci(alpha=.05)"
   ]
  },
  {
   "cell_type": "markdown",
   "id": "f920efb9-23b5-40f2-bf28-d6448c0e07df",
   "metadata": {},
   "source": [
    "##### To compute BCa confidence intervals, you need to run the jackknife first"
   ]
  },
  {
   "cell_type": "code",
   "execution_count": 222,
   "id": "775ff281-4970-4209-968b-cb4e17906fd8",
   "metadata": {},
   "outputs": [
    {
     "name": "stderr",
     "output_type": "stream",
     "text": [
      "100%|██████████| 200/200 [00:00<00:00, 1980.94it/s]\n"
     ]
    }
   ],
   "source": [
    "speedboot_object.jackknife(bar=True, par=True)"
   ]
  },
  {
   "cell_type": "markdown",
   "id": "deee1af8-6a41-4a66-9ca0-d5052b60a727",
   "metadata": {},
   "source": [
    "##### Compute 90% BCa confidence intervals"
   ]
  },
  {
   "cell_type": "code",
   "execution_count": 223,
   "id": "cfbc7c40-efed-47a3-84d1-0e26b0047388",
   "metadata": {},
   "outputs": [
    {
     "data": {
      "text/plain": [
       "array([[49.6459673 , 52.42260791],\n",
       "       [23.20538823, 25.21462164]])"
      ]
     },
     "execution_count": 223,
     "metadata": {},
     "output_type": "execute_result"
    }
   ],
   "source": [
    "speedboot_object.bca_ci(alpha=.05)"
   ]
  }
 ],
 "metadata": {
  "kernelspec": {
   "display_name": "Python 3",
   "language": "python",
   "name": "python3"
  },
  "language_info": {
   "codemirror_mode": {
    "name": "ipython",
    "version": 3
   },
   "file_extension": ".py",
   "mimetype": "text/x-python",
   "name": "python",
   "nbconvert_exporter": "python",
   "pygments_lexer": "ipython3",
   "version": "3.8.8"
  }
 },
 "nbformat": 4,
 "nbformat_minor": 5
}
