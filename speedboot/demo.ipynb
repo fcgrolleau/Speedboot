{
 "cells": [
  {
   "cell_type": "code",
   "execution_count": 3,
   "id": "d3b2bf9d-3802-42d6-92a7-f80bcb553055",
   "metadata": {},
   "outputs": [],
   "source": [
    "import numpy as np\n",
    "import pandas as pd\n",
    "from speedboot import speedboot"
   ]
  },
  {
   "cell_type": "code",
   "execution_count": 4,
   "id": "695a4724-ad62-4867-83a0-883c388149cb",
   "metadata": {},
   "outputs": [
    {
     "data": {
      "text/html": [
       "<div>\n",
       "<style scoped>\n",
       "    .dataframe tbody tr th:only-of-type {\n",
       "        vertical-align: middle;\n",
       "    }\n",
       "\n",
       "    .dataframe tbody tr th {\n",
       "        vertical-align: top;\n",
       "    }\n",
       "\n",
       "    .dataframe thead th {\n",
       "        text-align: right;\n",
       "    }\n",
       "</style>\n",
       "<table border=\"1\" class=\"dataframe\">\n",
       "  <thead>\n",
       "    <tr style=\"text-align: right;\">\n",
       "      <th></th>\n",
       "      <th>age</th>\n",
       "      <th>height</th>\n",
       "      <th>weight</th>\n",
       "    </tr>\n",
       "  </thead>\n",
       "  <tbody>\n",
       "    <tr>\n",
       "      <th>0</th>\n",
       "      <td>72.625118</td>\n",
       "      <td>1.715978</td>\n",
       "      <td>65.139909</td>\n",
       "    </tr>\n",
       "    <tr>\n",
       "      <th>1</th>\n",
       "      <td>46.082832</td>\n",
       "      <td>1.548042</td>\n",
       "      <td>64.656850</td>\n",
       "    </tr>\n",
       "    <tr>\n",
       "      <th>2</th>\n",
       "      <td>51.117184</td>\n",
       "      <td>1.971302</td>\n",
       "      <td>64.935750</td>\n",
       "    </tr>\n",
       "    <tr>\n",
       "      <th>3</th>\n",
       "      <td>66.335853</td>\n",
       "      <td>1.659032</td>\n",
       "      <td>65.120196</td>\n",
       "    </tr>\n",
       "    <tr>\n",
       "      <th>4</th>\n",
       "      <td>44.392059</td>\n",
       "      <td>1.686865</td>\n",
       "      <td>64.931505</td>\n",
       "    </tr>\n",
       "  </tbody>\n",
       "</table>\n",
       "</div>"
      ],
      "text/plain": [
       "         age    height     weight\n",
       "0  72.625118  1.715978  65.139909\n",
       "1  46.082832  1.548042  64.656850\n",
       "2  51.117184  1.971302  64.935750\n",
       "3  66.335853  1.659032  65.120196\n",
       "4  44.392059  1.686865  64.931505"
      ]
     },
     "execution_count": 4,
     "metadata": {},
     "output_type": "execute_result"
    }
   ],
   "source": [
    "n = 1000\n",
    "n_sample = pd.DataFrame({\"age\": np.random.normal(50,10,n),\n",
    "                         \"height\": np.random.normal(1.7,.2,n),\n",
    "                         \"weight\": np.random.normal(65,.2,n)})\n",
    "n_sample.head()"
   ]
  },
  {
   "cell_type": "code",
   "execution_count": 75,
   "id": "d58e32b9-33ae-4b9b-99fb-19ec3779bb62",
   "metadata": {},
   "outputs": [
    {
     "name": "stdout",
     "output_type": "stream",
     "text": [
      "estimated mean age is 50.18\n",
      "estimated mean BMI is 23.39\n"
     ]
    }
   ],
   "source": [
    "def pop_stats(X):\n",
    "    '''Estimators for the mean age and BMI of a population'''\n",
    "    return np.array([np.mean(X['age']), np.mean(X['weight']/X['height']**2)])\n",
    "\n",
    "(age_hat, bmi_hat) = pop_stats(n_sample)\n",
    "\n",
    "print(f'estimated mean age is {age_hat:.2f}')\n",
    "print(f'estimated mean BMI is {bmi_hat:.2f}')"
   ]
  },
  {
   "cell_type": "code",
   "execution_count": 76,
   "id": "99a045dc-aba5-4c3f-a8ee-467cf6327667",
   "metadata": {},
   "outputs": [],
   "source": [
    "speedboot_object = speedboot(data=n_sample, stats_fun=pop_stats)"
   ]
  },
  {
   "cell_type": "code",
   "execution_count": 77,
   "id": "c25a6372-ca17-45be-b983-2b84492e11ee",
   "metadata": {},
   "outputs": [
    {
     "name": "stderr",
     "output_type": "stream",
     "text": [
      "100%|██████████| 999/999 [00:02<00:00, 463.67it/s]\n"
     ]
    }
   ],
   "source": [
    "speedboot_object.fit(R=999, bar=True, par=True, seed=123)"
   ]
  },
  {
   "cell_type": "code",
   "execution_count": 78,
   "id": "cfa664fc-e631-4731-a03a-6b7a611f5622",
   "metadata": {},
   "outputs": [
    {
     "data": {
      "text/plain": [
       "array([50.18350578, 23.38986685])"
      ]
     },
     "execution_count": 78,
     "metadata": {},
     "output_type": "execute_result"
    }
   ],
   "source": [
    "speedboot_object.ests"
   ]
  },
  {
   "cell_type": "code",
   "execution_count": 83,
   "id": "c2fa8149-a932-46d9-9c63-8d946addb92b",
   "metadata": {},
   "outputs": [
    {
     "data": {
      "text/html": [
       "<div>\n",
       "<style scoped>\n",
       "    .dataframe tbody tr th:only-of-type {\n",
       "        vertical-align: middle;\n",
       "    }\n",
       "\n",
       "    .dataframe tbody tr th {\n",
       "        vertical-align: top;\n",
       "    }\n",
       "\n",
       "    .dataframe thead th {\n",
       "        text-align: right;\n",
       "    }\n",
       "</style>\n",
       "<table border=\"1\" class=\"dataframe\">\n",
       "  <thead>\n",
       "    <tr style=\"text-align: right;\">\n",
       "      <th></th>\n",
       "      <th>age_hats</th>\n",
       "      <th>BMI_hats</th>\n",
       "    </tr>\n",
       "  </thead>\n",
       "  <tbody>\n",
       "    <tr>\n",
       "      <th>0</th>\n",
       "      <td>50.025404</td>\n",
       "      <td>23.453069</td>\n",
       "    </tr>\n",
       "    <tr>\n",
       "      <th>1</th>\n",
       "      <td>49.450377</td>\n",
       "      <td>23.565080</td>\n",
       "    </tr>\n",
       "    <tr>\n",
       "      <th>2</th>\n",
       "      <td>49.767283</td>\n",
       "      <td>23.512402</td>\n",
       "    </tr>\n",
       "    <tr>\n",
       "      <th>3</th>\n",
       "      <td>50.368019</td>\n",
       "      <td>23.083663</td>\n",
       "    </tr>\n",
       "    <tr>\n",
       "      <th>4</th>\n",
       "      <td>50.057997</td>\n",
       "      <td>23.228130</td>\n",
       "    </tr>\n",
       "    <tr>\n",
       "      <th>...</th>\n",
       "      <td>...</td>\n",
       "      <td>...</td>\n",
       "    </tr>\n",
       "    <tr>\n",
       "      <th>994</th>\n",
       "      <td>49.648007</td>\n",
       "      <td>23.404095</td>\n",
       "    </tr>\n",
       "    <tr>\n",
       "      <th>995</th>\n",
       "      <td>50.090866</td>\n",
       "      <td>23.576760</td>\n",
       "    </tr>\n",
       "    <tr>\n",
       "      <th>996</th>\n",
       "      <td>51.047628</td>\n",
       "      <td>23.048864</td>\n",
       "    </tr>\n",
       "    <tr>\n",
       "      <th>997</th>\n",
       "      <td>50.197419</td>\n",
       "      <td>23.452982</td>\n",
       "    </tr>\n",
       "    <tr>\n",
       "      <th>998</th>\n",
       "      <td>50.690592</td>\n",
       "      <td>23.338440</td>\n",
       "    </tr>\n",
       "  </tbody>\n",
       "</table>\n",
       "<p>999 rows × 2 columns</p>\n",
       "</div>"
      ],
      "text/plain": [
       "      age_hats   BMI_hats\n",
       "0    50.025404  23.453069\n",
       "1    49.450377  23.565080\n",
       "2    49.767283  23.512402\n",
       "3    50.368019  23.083663\n",
       "4    50.057997  23.228130\n",
       "..         ...        ...\n",
       "994  49.648007  23.404095\n",
       "995  50.090866  23.576760\n",
       "996  51.047628  23.048864\n",
       "997  50.197419  23.452982\n",
       "998  50.690592  23.338440\n",
       "\n",
       "[999 rows x 2 columns]"
      ]
     },
     "execution_count": 83,
     "metadata": {},
     "output_type": "execute_result"
    }
   ],
   "source": [
    "pd.DataFrame(speedboot_object.ests_boot, columns=['age_hats', 'BMI_hats'])"
   ]
  },
  {
   "cell_type": "code",
   "execution_count": 59,
   "id": "d7225cd3-237c-4d1e-a853-a6c10dc6d20f",
   "metadata": {},
   "outputs": [
    {
     "data": {
      "image/png": "[encoded data removed]",
      "text/plain": [
       "<Figure size 432x864 with 2 Axes>"
      ]
     },
     "metadata": {
      "needs_background": "light"
     },
     "output_type": "display_data"
    }
   ],
   "source": [
    "speedboot_object.plot(prec=.05, size=6)"
   ]
  },
  {
   "cell_type": "code",
   "execution_count": 67,
   "id": "28d20c7a-9a7a-4030-9a1b-59b560958673",
   "metadata": {},
   "outputs": [
    {
     "data": {
      "text/plain": [
       "array([[49.9453485 , 50.36704023],\n",
       "       [23.24626436, 23.52624168]])"
      ]
     },
     "execution_count": 67,
     "metadata": {},
     "output_type": "execute_result"
    }
   ],
   "source": [
    "speedboot_object.per_ci(risk_a=.2)"
   ]
  },
  {
   "cell_type": "code",
   "execution_count": 68,
   "id": "980e7b6c-fc76-4a5c-bef1-cbcbefe0623c",
   "metadata": {},
   "outputs": [
    {
     "data": {
      "text/plain": [
       "array([[49.76792906, 50.62637254],\n",
       "       [23.12916852, 23.63522399]])"
      ]
     },
     "execution_count": 68,
     "metadata": {},
     "output_type": "execute_result"
    }
   ],
   "source": [
    "speedboot_object.emp_ci(risk_a=.2)"
   ]
  }
 ],
 "metadata": {
  "kernelspec": {
   "display_name": "Python 3",
   "language": "python",
   "name": "python3"
  },
  "language_info": {
   "codemirror_mode": {
    "name": "ipython",
    "version": 3
   },
   "file_extension": ".py",
   "mimetype": "text/x-python",
   "name": "python",
   "nbconvert_exporter": "python",
   "pygments_lexer": "ipython3",
   "version": "3.8.8"
  }
 },
 "nbformat": 4,
 "nbformat_minor": 5
}
