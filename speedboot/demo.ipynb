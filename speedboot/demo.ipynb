{
 "cells": [
  {
   "cell_type": "code",
   "execution_count": 1,
   "id": "d3b2bf9d-3802-42d6-92a7-f80bcb553055",
   "metadata": {},
   "outputs": [],
   "source": [
    "import numpy as np\n",
    "import pandas as pd\n",
    "from speedboot import speedboot"
   ]
  },
  {
   "cell_type": "markdown",
   "id": "43e96940-500c-4428-b470-8b83d8b18bfc",
   "metadata": {},
   "source": [
    "##### You are given a random sample of size n from a population"
   ]
  },
  {
   "cell_type": "code",
   "execution_count": 2,
   "id": "695a4724-ad62-4867-83a0-883c388149cb",
   "metadata": {},
   "outputs": [
    {
     "data": {
      "text/html": [
       "<div>\n",
       "<style scoped>\n",
       "    .dataframe tbody tr th:only-of-type {\n",
       "        vertical-align: middle;\n",
       "    }\n",
       "\n",
       "    .dataframe tbody tr th {\n",
       "        vertical-align: top;\n",
       "    }\n",
       "\n",
       "    .dataframe thead th {\n",
       "        text-align: right;\n",
       "    }\n",
       "</style>\n",
       "<table border=\"1\" class=\"dataframe\">\n",
       "  <thead>\n",
       "    <tr style=\"text-align: right;\">\n",
       "      <th></th>\n",
       "      <th>age</th>\n",
       "      <th>height</th>\n",
       "      <th>weight</th>\n",
       "    </tr>\n",
       "  </thead>\n",
       "  <tbody>\n",
       "    <tr>\n",
       "      <th>0</th>\n",
       "      <td>49.470004</td>\n",
       "      <td>1.472036</td>\n",
       "      <td>67.730991</td>\n",
       "    </tr>\n",
       "    <tr>\n",
       "      <th>1</th>\n",
       "      <td>59.848742</td>\n",
       "      <td>2.031273</td>\n",
       "      <td>79.097077</td>\n",
       "    </tr>\n",
       "    <tr>\n",
       "      <th>2</th>\n",
       "      <td>61.308271</td>\n",
       "      <td>1.568898</td>\n",
       "      <td>72.128535</td>\n",
       "    </tr>\n",
       "    <tr>\n",
       "      <th>3</th>\n",
       "      <td>55.170230</td>\n",
       "      <td>1.665424</td>\n",
       "      <td>60.033013</td>\n",
       "    </tr>\n",
       "    <tr>\n",
       "      <th>4</th>\n",
       "      <td>30.037233</td>\n",
       "      <td>1.716990</td>\n",
       "      <td>66.447617</td>\n",
       "    </tr>\n",
       "  </tbody>\n",
       "</table>\n",
       "</div>"
      ],
      "text/plain": [
       "         age    height     weight\n",
       "0  49.470004  1.472036  67.730991\n",
       "1  59.848742  2.031273  79.097077\n",
       "2  61.308271  1.568898  72.128535\n",
       "3  55.170230  1.665424  60.033013\n",
       "4  30.037233  1.716990  66.447617"
      ]
     },
     "execution_count": 2,
     "metadata": {},
     "output_type": "execute_result"
    }
   ],
   "source": [
    "n = 200\n",
    "n_sample = pd.DataFrame({\"age\": np.random.normal(50,10,n),\n",
    "                         \"height\": np.random.normal(1.7,.2,n),\n",
    "                         \"weight\": np.random.normal(65,10,n)})\n",
    "n_sample.head()"
   ]
  },
  {
   "cell_type": "markdown",
   "id": "714f0ab4-fd45-4400-8ff6-a500e5a99ea1",
   "metadata": {},
   "source": [
    "##### Using this sample you wish to estimate the mean age and mean BMI for the population form which we are sampling"
   ]
  },
  {
   "cell_type": "code",
   "execution_count": 3,
   "id": "d58e32b9-33ae-4b9b-99fb-19ec3779bb62",
   "metadata": {},
   "outputs": [
    {
     "name": "stdout",
     "output_type": "stream",
     "text": [
      "estimated mean age is 50.30\n",
      "estimated mean BMI is 23.77\n"
     ]
    }
   ],
   "source": [
    "def estimators(X):\n",
    "    '''Estimators for the mean age and mean BMI of a population'''\n",
    "    return np.array([np.mean(X['age']), np.mean(X['weight']/X['height']**2)])\n",
    "\n",
    "(age_hat, bmi_hat) = estimators(n_sample)\n",
    "\n",
    "print(f'estimated mean age is {age_hat:.2f}')\n",
    "print(f'estimated mean BMI is {bmi_hat:.2f}')"
   ]
  },
  {
   "cell_type": "markdown",
   "id": "116bda6d-e0b4-4ab8-a70d-5a884f9e7626",
   "metadata": {},
   "source": [
    "##### Instanciate speedboot with the sample and the estimator function"
   ]
  },
  {
   "cell_type": "code",
   "execution_count": 4,
   "id": "99a045dc-aba5-4c3f-a8ee-467cf6327667",
   "metadata": {},
   "outputs": [],
   "source": [
    "speedboot_object = speedboot(data=n_sample, stats_fun=estimators)"
   ]
  },
  {
   "cell_type": "markdown",
   "id": "a47486c0-13f4-48e2-8c5b-4dbd7c53b507",
   "metadata": {},
   "source": [
    "##### Run the bootstrap with 999 iterations"
   ]
  },
  {
   "cell_type": "code",
   "execution_count": 5,
   "id": "c25a6372-ca17-45be-b983-2b84492e11ee",
   "metadata": {},
   "outputs": [
    {
     "name": "stderr",
     "output_type": "stream",
     "text": [
      "100%|██████████| 999/999 [00:00<00:00, 1733.25it/s]\n"
     ]
    }
   ],
   "source": [
    "speedboot_object.fit(R=999, bar=True, seed=123)"
   ]
  },
  {
   "cell_type": "markdown",
   "id": "4b178388-54dc-41bf-9fdc-15f1fff2ffa9",
   "metadata": {},
   "source": [
    "##### Parallelize computations for speed"
   ]
  },
  {
   "cell_type": "code",
   "execution_count": 6,
   "id": "cad8f616-e6ea-4592-b0ae-29dc0391a3f4",
   "metadata": {},
   "outputs": [
    {
     "name": "stderr",
     "output_type": "stream",
     "text": [
      "100%|██████████| 999/999 [00:01<00:00, 685.46it/s]\n"
     ]
    }
   ],
   "source": [
    "speedboot_object.fit(R=999, bar=True, par=True, seed=123)"
   ]
  },
  {
   "cell_type": "markdown",
   "id": "71d39d58-495b-48c2-a480-1928a7d18b0c",
   "metadata": {},
   "source": [
    "##### Recover point estimates"
   ]
  },
  {
   "cell_type": "code",
   "execution_count": 7,
   "id": "cfa664fc-e631-4731-a03a-6b7a611f5622",
   "metadata": {},
   "outputs": [
    {
     "data": {
      "text/plain": [
       "array([50.30266133, 23.76757062])"
      ]
     },
     "execution_count": 7,
     "metadata": {},
     "output_type": "execute_result"
    }
   ],
   "source": [
    "speedboot_object.ests"
   ]
  },
  {
   "cell_type": "markdown",
   "id": "1fbbeff8-c6c2-4f28-9d08-52b59fe84edd",
   "metadata": {},
   "source": [
    "##### Recover bootstrap estimates stored in .ests_boot"
   ]
  },
  {
   "cell_type": "code",
   "execution_count": 8,
   "id": "c2fa8149-a932-46d9-9c63-8d946addb92b",
   "metadata": {},
   "outputs": [
    {
     "data": {
      "text/html": [
       "<div>\n",
       "<style scoped>\n",
       "    .dataframe tbody tr th:only-of-type {\n",
       "        vertical-align: middle;\n",
       "    }\n",
       "\n",
       "    .dataframe tbody tr th {\n",
       "        vertical-align: top;\n",
       "    }\n",
       "\n",
       "    .dataframe thead th {\n",
       "        text-align: right;\n",
       "    }\n",
       "</style>\n",
       "<table border=\"1\" class=\"dataframe\">\n",
       "  <thead>\n",
       "    <tr style=\"text-align: right;\">\n",
       "      <th></th>\n",
       "      <th>age_hats</th>\n",
       "      <th>BMI_hats</th>\n",
       "    </tr>\n",
       "  </thead>\n",
       "  <tbody>\n",
       "    <tr>\n",
       "      <th>0</th>\n",
       "      <td>50.582540</td>\n",
       "      <td>23.685718</td>\n",
       "    </tr>\n",
       "    <tr>\n",
       "      <th>1</th>\n",
       "      <td>50.885977</td>\n",
       "      <td>23.399666</td>\n",
       "    </tr>\n",
       "    <tr>\n",
       "      <th>2</th>\n",
       "      <td>49.446647</td>\n",
       "      <td>24.410150</td>\n",
       "    </tr>\n",
       "    <tr>\n",
       "      <th>3</th>\n",
       "      <td>49.261338</td>\n",
       "      <td>22.964006</td>\n",
       "    </tr>\n",
       "    <tr>\n",
       "      <th>4</th>\n",
       "      <td>49.879855</td>\n",
       "      <td>23.417152</td>\n",
       "    </tr>\n",
       "    <tr>\n",
       "      <th>...</th>\n",
       "      <td>...</td>\n",
       "      <td>...</td>\n",
       "    </tr>\n",
       "    <tr>\n",
       "      <th>994</th>\n",
       "      <td>50.324540</td>\n",
       "      <td>25.262719</td>\n",
       "    </tr>\n",
       "    <tr>\n",
       "      <th>995</th>\n",
       "      <td>50.694060</td>\n",
       "      <td>23.187396</td>\n",
       "    </tr>\n",
       "    <tr>\n",
       "      <th>996</th>\n",
       "      <td>49.681328</td>\n",
       "      <td>23.704914</td>\n",
       "    </tr>\n",
       "    <tr>\n",
       "      <th>997</th>\n",
       "      <td>50.498463</td>\n",
       "      <td>24.956430</td>\n",
       "    </tr>\n",
       "    <tr>\n",
       "      <th>998</th>\n",
       "      <td>51.001340</td>\n",
       "      <td>24.344954</td>\n",
       "    </tr>\n",
       "  </tbody>\n",
       "</table>\n",
       "<p>999 rows × 2 columns</p>\n",
       "</div>"
      ],
      "text/plain": [
       "      age_hats   BMI_hats\n",
       "0    50.582540  23.685718\n",
       "1    50.885977  23.399666\n",
       "2    49.446647  24.410150\n",
       "3    49.261338  22.964006\n",
       "4    49.879855  23.417152\n",
       "..         ...        ...\n",
       "994  50.324540  25.262719\n",
       "995  50.694060  23.187396\n",
       "996  49.681328  23.704914\n",
       "997  50.498463  24.956430\n",
       "998  51.001340  24.344954\n",
       "\n",
       "[999 rows x 2 columns]"
      ]
     },
     "execution_count": 8,
     "metadata": {},
     "output_type": "execute_result"
    }
   ],
   "source": [
    "pd.DataFrame(speedboot_object.ests_boot, columns=['age_hats', 'BMI_hats'])"
   ]
  },
  {
   "cell_type": "markdown",
   "id": "8227b4cf-4030-44ce-8b2d-d9ecb2335e1a",
   "metadata": {},
   "source": [
    "##### Plot histograms for normality check"
   ]
  },
  {
   "cell_type": "code",
   "execution_count": 9,
   "id": "d7225cd3-237c-4d1e-a853-a6c10dc6d20f",
   "metadata": {},
   "outputs": [
    {
     "data": {
      "image/png": "[encoded data removed]",
      "text/plain": [
       "<Figure size 432x864 with 2 Axes>"
      ]
     },
     "metadata": {
      "needs_background": "light"
     },
     "output_type": "display_data"
    }
   ],
   "source": [
    "speedboot_object.plot(prec=.04, size=6)"
   ]
  },
  {
   "cell_type": "markdown",
   "id": "aa741bb0-3815-4fc3-95f6-37b7307d4fc8",
   "metadata": {},
   "source": [
    "##### Compute 90% percentile confidence intervals"
   ]
  },
  {
   "cell_type": "code",
   "execution_count": 10,
   "id": "28d20c7a-9a7a-4030-9a1b-59b560958673",
   "metadata": {},
   "outputs": [
    {
     "data": {
      "text/plain": [
       "array([[49.05934582, 51.60412076],\n",
       "       [22.72160438, 24.71054636]])"
      ]
     },
     "execution_count": 10,
     "metadata": {},
     "output_type": "execute_result"
    }
   ],
   "source": [
    "speedboot_object.per_ci(alpha=.05)"
   ]
  },
  {
   "cell_type": "markdown",
   "id": "6fb5621b-b8cd-46cf-a488-d49b819fd776",
   "metadata": {},
   "source": [
    "##### Compute 90% empirical confidence intervals"
   ]
  },
  {
   "cell_type": "code",
   "execution_count": 11,
   "id": "980e7b6c-fc76-4a5c-bef1-cbcbefe0623c",
   "metadata": {},
   "outputs": [
    {
     "data": {
      "text/plain": [
       "array([[49.00120189, 51.54597684],\n",
       "       [22.82459488, 24.81353687]])"
      ]
     },
     "execution_count": 11,
     "metadata": {},
     "output_type": "execute_result"
    }
   ],
   "source": [
    "speedboot_object.emp_ci(alpha=.05)"
   ]
  },
  {
   "cell_type": "markdown",
   "id": "f920efb9-23b5-40f2-bf28-d6448c0e07df",
   "metadata": {},
   "source": [
    "##### To compute BCa confidence intervals, you need to run the jackknife first"
   ]
  },
  {
   "cell_type": "code",
   "execution_count": 12,
   "id": "775ff281-4970-4209-968b-cb4e17906fd8",
   "metadata": {},
   "outputs": [
    {
     "name": "stderr",
     "output_type": "stream",
     "text": [
      "100%|██████████| 200/200 [00:00<00:00, 1854.76it/s]\n"
     ]
    }
   ],
   "source": [
    "speedboot_object.jackknife(bar=True, par=True)"
   ]
  },
  {
   "cell_type": "markdown",
   "id": "deee1af8-6a41-4a66-9ca0-d5052b60a727",
   "metadata": {},
   "source": [
    "##### Compute 90% BCa confidence intervals"
   ]
  },
  {
   "cell_type": "code",
   "execution_count": 13,
   "id": "cfbc7c40-efed-47a3-84d1-0e26b0047388",
   "metadata": {},
   "outputs": [
    {
     "data": {
      "text/plain": [
       "array([[48.90530843, 51.51055348],\n",
       "       [22.77175805, 24.79140501]])"
      ]
     },
     "execution_count": 13,
     "metadata": {},
     "output_type": "execute_result"
    }
   ],
   "source": [
    "speedboot_object.bca_ci(alpha=.05)"
   ]
  }
 ],
 "metadata": {
  "kernelspec": {
   "display_name": "Python 3",
   "language": "python",
   "name": "python3"
  },
  "language_info": {
   "codemirror_mode": {
    "name": "ipython",
    "version": 3
   },
   "file_extension": ".py",
   "mimetype": "text/x-python",
   "name": "python",
   "nbconvert_exporter": "python",
   "pygments_lexer": "ipython3",
   "version": "3.8.8"
  }
 },
 "nbformat": 4,
 "nbformat_minor": 5
}
