{
 "cells": [
  {
   "cell_type": "code",
   "execution_count": 1,
   "id": "d3b2bf9d-3802-42d6-92a7-f80bcb553055",
   "metadata": {},
   "outputs": [],
   "source": [
    "import numpy as np\n",
    "import pandas as pd\n",
    "from speedboot import speedboot"
   ]
  },
  {
   "cell_type": "markdown",
   "id": "43e96940-500c-4428-b470-8b83d8b18bfc",
   "metadata": {},
   "source": [
    "##### You are given a random sample of size n from a population"
   ]
  },
  {
   "cell_type": "code",
   "execution_count": 2,
   "id": "695a4724-ad62-4867-83a0-883c388149cb",
   "metadata": {},
   "outputs": [
    {
     "data": {
      "text/html": [
       "<div>\n",
       "<style scoped>\n",
       "    .dataframe tbody tr th:only-of-type {\n",
       "        vertical-align: middle;\n",
       "    }\n",
       "\n",
       "    .dataframe tbody tr th {\n",
       "        vertical-align: top;\n",
       "    }\n",
       "\n",
       "    .dataframe thead th {\n",
       "        text-align: right;\n",
       "    }\n",
       "</style>\n",
       "<table border=\"1\" class=\"dataframe\">\n",
       "  <thead>\n",
       "    <tr style=\"text-align: right;\">\n",
       "      <th></th>\n",
       "      <th>age</th>\n",
       "      <th>height</th>\n",
       "      <th>weight</th>\n",
       "    </tr>\n",
       "  </thead>\n",
       "  <tbody>\n",
       "    <tr>\n",
       "      <th>0</th>\n",
       "      <td>67.640523</td>\n",
       "      <td>1.626164</td>\n",
       "      <td>59.013461</td>\n",
       "    </tr>\n",
       "    <tr>\n",
       "      <th>1</th>\n",
       "      <td>54.001572</td>\n",
       "      <td>1.652124</td>\n",
       "      <td>53.841030</td>\n",
       "    </tr>\n",
       "    <tr>\n",
       "      <th>2</th>\n",
       "      <td>59.787380</td>\n",
       "      <td>1.919932</td>\n",
       "      <td>72.666632</td>\n",
       "    </tr>\n",
       "    <tr>\n",
       "      <th>3</th>\n",
       "      <td>72.408932</td>\n",
       "      <td>1.831053</td>\n",
       "      <td>68.562928</td>\n",
       "    </tr>\n",
       "    <tr>\n",
       "      <th>4</th>\n",
       "      <td>68.675580</td>\n",
       "      <td>1.828026</td>\n",
       "      <td>47.314615</td>\n",
       "    </tr>\n",
       "  </tbody>\n",
       "</table>\n",
       "</div>"
      ],
      "text/plain": [
       "         age    height     weight\n",
       "0  67.640523  1.626164  59.013461\n",
       "1  54.001572  1.652124  53.841030\n",
       "2  59.787380  1.919932  72.666632\n",
       "3  72.408932  1.831053  68.562928\n",
       "4  68.675580  1.828026  47.314615"
      ]
     },
     "execution_count": 2,
     "metadata": {},
     "output_type": "execute_result"
    }
   ],
   "source": [
    "n = 200\n",
    "np.random.seed(0)\n",
    "n_sample = pd.DataFrame({\"age\": np.random.normal(50,10,n),\n",
    "                         \"height\": np.random.normal(1.7,.2,n),\n",
    "                         \"weight\": np.random.normal(65,10,n)})\n",
    "n_sample.head()"
   ]
  },
  {
   "cell_type": "markdown",
   "id": "714f0ab4-fd45-4400-8ff6-a500e5a99ea1",
   "metadata": {},
   "source": [
    "##### Using this sample you wish to estimate the mean age and mean BMI for the population form which we are sampling"
   ]
  },
  {
   "cell_type": "code",
   "execution_count": 3,
   "id": "d58e32b9-33ae-4b9b-99fb-19ec3779bb62",
   "metadata": {},
   "outputs": [
    {
     "name": "stdout",
     "output_type": "stream",
     "text": [
      "estimated mean age is 50.71\n",
      "estimated mean BMI is 23.57\n"
     ]
    }
   ],
   "source": [
    "def estimators(X):\n",
    "    '''Estimators for the mean age and mean BMI of a population'''\n",
    "    return np.array([np.mean(X['age']), np.mean(X['weight']/X['height']**2)])\n",
    "\n",
    "(age_hat, bmi_hat) = estimators(n_sample)\n",
    "\n",
    "print(f'estimated mean age is {age_hat:.2f}')\n",
    "print(f'estimated mean BMI is {bmi_hat:.2f}')"
   ]
  },
  {
   "cell_type": "markdown",
   "id": "116bda6d-e0b4-4ab8-a70d-5a884f9e7626",
   "metadata": {},
   "source": [
    "##### Instanciate speedboot with the sample and the estimator function"
   ]
  },
  {
   "cell_type": "code",
   "execution_count": 4,
   "id": "99a045dc-aba5-4c3f-a8ee-467cf6327667",
   "metadata": {},
   "outputs": [],
   "source": [
    "speedboot_object = speedboot(data=n_sample, stats_fun=estimators)"
   ]
  },
  {
   "cell_type": "markdown",
   "id": "a47486c0-13f4-48e2-8c5b-4dbd7c53b507",
   "metadata": {},
   "source": [
    "##### Run the bootstrap with 9999 iterations"
   ]
  },
  {
   "cell_type": "code",
   "execution_count": 5,
   "id": "c25a6372-ca17-45be-b983-2b84492e11ee",
   "metadata": {},
   "outputs": [
    {
     "name": "stderr",
     "output_type": "stream",
     "text": [
      "100%|██████████| 9999/9999 [00:05<00:00, 1976.66it/s]\n"
     ]
    }
   ],
   "source": [
    "speedboot_object.fit(R=9999, bar=True, seed=123)"
   ]
  },
  {
   "cell_type": "markdown",
   "id": "4b178388-54dc-41bf-9fdc-15f1fff2ffa9",
   "metadata": {},
   "source": [
    "##### Parallelize computations for speed"
   ]
  },
  {
   "cell_type": "code",
   "execution_count": 6,
   "id": "cad8f616-e6ea-4592-b0ae-29dc0391a3f4",
   "metadata": {},
   "outputs": [
    {
     "name": "stderr",
     "output_type": "stream",
     "text": [
      "100%|██████████| 9999/9999 [00:02<00:00, 3451.08it/s]\n"
     ]
    }
   ],
   "source": [
    "speedboot_object.fit(R=9999, bar=True, par=True, seed=123)"
   ]
  },
  {
   "cell_type": "markdown",
   "id": "71d39d58-495b-48c2-a480-1928a7d18b0c",
   "metadata": {},
   "source": [
    "##### Recover point estimates"
   ]
  },
  {
   "cell_type": "code",
   "execution_count": 7,
   "id": "cfa664fc-e631-4731-a03a-6b7a611f5622",
   "metadata": {},
   "outputs": [
    {
     "data": {
      "text/plain": [
       "array([50.70910493, 23.56687578])"
      ]
     },
     "execution_count": 7,
     "metadata": {},
     "output_type": "execute_result"
    }
   ],
   "source": [
    "speedboot_object.ests"
   ]
  },
  {
   "cell_type": "markdown",
   "id": "1fbbeff8-c6c2-4f28-9d08-52b59fe84edd",
   "metadata": {},
   "source": [
    "##### Recover bootstrap estimates stored in .ests_boot"
   ]
  },
  {
   "cell_type": "code",
   "execution_count": 8,
   "id": "c2fa8149-a932-46d9-9c63-8d946addb92b",
   "metadata": {},
   "outputs": [
    {
     "data": {
      "text/html": [
       "<div>\n",
       "<style scoped>\n",
       "    .dataframe tbody tr th:only-of-type {\n",
       "        vertical-align: middle;\n",
       "    }\n",
       "\n",
       "    .dataframe tbody tr th {\n",
       "        vertical-align: top;\n",
       "    }\n",
       "\n",
       "    .dataframe thead th {\n",
       "        text-align: right;\n",
       "    }\n",
       "</style>\n",
       "<table border=\"1\" class=\"dataframe\">\n",
       "  <thead>\n",
       "    <tr style=\"text-align: right;\">\n",
       "      <th></th>\n",
       "      <th>age_hats</th>\n",
       "      <th>BMI_hats</th>\n",
       "    </tr>\n",
       "  </thead>\n",
       "  <tbody>\n",
       "    <tr>\n",
       "      <th>0</th>\n",
       "      <td>51.991845</td>\n",
       "      <td>23.579462</td>\n",
       "    </tr>\n",
       "    <tr>\n",
       "      <th>1</th>\n",
       "      <td>51.352808</td>\n",
       "      <td>22.922220</td>\n",
       "    </tr>\n",
       "    <tr>\n",
       "      <th>2</th>\n",
       "      <td>50.883572</td>\n",
       "      <td>23.215851</td>\n",
       "    </tr>\n",
       "    <tr>\n",
       "      <th>3</th>\n",
       "      <td>50.560021</td>\n",
       "      <td>23.727509</td>\n",
       "    </tr>\n",
       "    <tr>\n",
       "      <th>4</th>\n",
       "      <td>50.268339</td>\n",
       "      <td>23.384304</td>\n",
       "    </tr>\n",
       "    <tr>\n",
       "      <th>...</th>\n",
       "      <td>...</td>\n",
       "      <td>...</td>\n",
       "    </tr>\n",
       "    <tr>\n",
       "      <th>9994</th>\n",
       "      <td>50.914518</td>\n",
       "      <td>24.012919</td>\n",
       "    </tr>\n",
       "    <tr>\n",
       "      <th>9995</th>\n",
       "      <td>50.813888</td>\n",
       "      <td>23.036348</td>\n",
       "    </tr>\n",
       "    <tr>\n",
       "      <th>9996</th>\n",
       "      <td>50.870246</td>\n",
       "      <td>24.262370</td>\n",
       "    </tr>\n",
       "    <tr>\n",
       "      <th>9997</th>\n",
       "      <td>51.553295</td>\n",
       "      <td>23.525999</td>\n",
       "    </tr>\n",
       "    <tr>\n",
       "      <th>9998</th>\n",
       "      <td>51.466506</td>\n",
       "      <td>23.119905</td>\n",
       "    </tr>\n",
       "  </tbody>\n",
       "</table>\n",
       "<p>9999 rows × 2 columns</p>\n",
       "</div>"
      ],
      "text/plain": [
       "       age_hats   BMI_hats\n",
       "0     51.991845  23.579462\n",
       "1     51.352808  22.922220\n",
       "2     50.883572  23.215851\n",
       "3     50.560021  23.727509\n",
       "4     50.268339  23.384304\n",
       "...         ...        ...\n",
       "9994  50.914518  24.012919\n",
       "9995  50.813888  23.036348\n",
       "9996  50.870246  24.262370\n",
       "9997  51.553295  23.525999\n",
       "9998  51.466506  23.119905\n",
       "\n",
       "[9999 rows x 2 columns]"
      ]
     },
     "execution_count": 8,
     "metadata": {},
     "output_type": "execute_result"
    }
   ],
   "source": [
    "pd.DataFrame(speedboot_object.ests_boot, columns=['age_hats', 'BMI_hats'])"
   ]
  },
  {
   "cell_type": "markdown",
   "id": "8227b4cf-4030-44ce-8b2d-d9ecb2335e1a",
   "metadata": {},
   "source": [
    "##### Plot histograms for normality check"
   ]
  },
  {
   "cell_type": "code",
   "execution_count": 26,
   "id": "d7225cd3-237c-4d1e-a853-a6c10dc6d20f",
   "metadata": {},
   "outputs": [
    {
     "data": {
      "image/png": "[encoded data removed]",
      "text/plain": [
       "<Figure size 432x864 with 2 Axes>"
      ]
     },
     "metadata": {
      "needs_background": "light"
     },
     "output_type": "display_data"
    }
   ],
   "source": [
    "speedboot_object.plot(prec=.01, size=6)"
   ]
  },
  {
   "cell_type": "markdown",
   "id": "aa741bb0-3815-4fc3-95f6-37b7307d4fc8",
   "metadata": {},
   "source": [
    "##### Compute 90% percentile confidence intervals"
   ]
  },
  {
   "cell_type": "code",
   "execution_count": 27,
   "id": "28d20c7a-9a7a-4030-9a1b-59b560958673",
   "metadata": {},
   "outputs": [
    {
     "data": {
      "text/plain": [
       "array([[49.53742986, 51.91146447],\n",
       "       [22.85359176, 24.30891889]])"
      ]
     },
     "execution_count": 27,
     "metadata": {},
     "output_type": "execute_result"
    }
   ],
   "source": [
    "speedboot_object.per_ci(alpha=.1)"
   ]
  },
  {
   "cell_type": "markdown",
   "id": "6fb5621b-b8cd-46cf-a488-d49b819fd776",
   "metadata": {},
   "source": [
    "##### Compute 90% empirical confidence intervals"
   ]
  },
  {
   "cell_type": "code",
   "execution_count": 28,
   "id": "980e7b6c-fc76-4a5c-bef1-cbcbefe0623c",
   "metadata": {},
   "outputs": [
    {
     "data": {
      "text/plain": [
       "array([[49.5067454 , 51.88078001],\n",
       "       [22.82483267, 24.2801598 ]])"
      ]
     },
     "execution_count": 28,
     "metadata": {},
     "output_type": "execute_result"
    }
   ],
   "source": [
    "speedboot_object.emp_ci(alpha=.1)"
   ]
  },
  {
   "cell_type": "markdown",
   "id": "f920efb9-23b5-40f2-bf28-d6448c0e07df",
   "metadata": {},
   "source": [
    "##### To compute BCa confidence intervals, you need to run the jackknife first"
   ]
  },
  {
   "cell_type": "code",
   "execution_count": 29,
   "id": "775ff281-4970-4209-968b-cb4e17906fd8",
   "metadata": {},
   "outputs": [
    {
     "name": "stderr",
     "output_type": "stream",
     "text": [
      "100%|██████████| 200/200 [00:00<00:00, 2172.63it/s]\n"
     ]
    }
   ],
   "source": [
    "speedboot_object.jackknife(bar=True, par=True)"
   ]
  },
  {
   "cell_type": "markdown",
   "id": "deee1af8-6a41-4a66-9ca0-d5052b60a727",
   "metadata": {},
   "source": [
    "##### Compute 90% BCa confidence intervals"
   ]
  },
  {
   "cell_type": "code",
   "execution_count": 30,
   "id": "cfbc7c40-efed-47a3-84d1-0e26b0047388",
   "metadata": {},
   "outputs": [
    {
     "data": {
      "text/plain": [
       "array([[49.55762681, 51.93104163],\n",
       "       [22.85903868, 24.3152708 ]])"
      ]
     },
     "execution_count": 30,
     "metadata": {},
     "output_type": "execute_result"
    }
   ],
   "source": [
    "speedboot_object.bca_ci(alpha=.1)"
   ]
  }
 ],
 "metadata": {
  "kernelspec": {
   "display_name": "Python 3",
   "language": "python",
   "name": "python3"
  },
  "language_info": {
   "codemirror_mode": {
    "name": "ipython",
    "version": 3
   },
   "file_extension": ".py",
   "mimetype": "text/x-python",
   "name": "python",
   "nbconvert_exporter": "python",
   "pygments_lexer": "ipython3",
   "version": "3.8.8"
  }
 },
 "nbformat": 4,
 "nbformat_minor": 5
}
